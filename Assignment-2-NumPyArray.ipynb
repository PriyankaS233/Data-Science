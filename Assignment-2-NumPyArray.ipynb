{
 "cells": [
  {
   "cell_type": "markdown",
   "id": "35215dde",
   "metadata": {},
   "source": [
    "<center><img src=\"https://upload.wikimedia.org/wikipedia/commons/3/31/NumPy_logo_2020.svg\"></center>"
   ]
  },
  {
   "cell_type": "markdown",
   "id": "3c5179d4",
   "metadata": {},
   "source": [
    "---\n",
    "# **Table of Contents**\n",
    "---"
   ]
  },
  {
   "cell_type": "markdown",
   "id": "77515672",
   "metadata": {},
   "source": [
    "**1.** [**Array Initialization**](#Section1)<br>\n",
    "**2.** [**Array Initialization using Random Numbers**](#Section2)<br>\n",
    "**3.** [**Numpy Indexing**](#Section3)<br>\n",
    "  - **3.1** [**Array Slicing**](#Section31)\n",
    "  - **3.2** [**Conditional Array Indexing**](#Section32)\n",
    "\n",
    "**4.** [**Numpy Array Operations**](#Section4)<br>\n",
    "  - **4.1** [**Numpy Broadcasting**](#Section41)\n",
    "  - **4.2** [**Numpy Mathematical Functions**](#Section42)\n",
    "  - **4.3** [**Numpy Unique Items and Counts**](#Section43)\n",
    "  - **4.4** [**Array Manipulation**](#Section44)\n",
    "    - **4.4.1** [**Array Shape Manipulation**](#Section441)\n",
    "    - **4.4.2** [**Array Merging & Splitting**](#Section442)\n",
    "\n",
    "**5.** [**Conclusion**](#Section5)<br>"
   ]
  },
  {
   "cell_type": "code",
   "execution_count": 1,
   "id": "c4caf78d",
   "metadata": {},
   "outputs": [],
   "source": [
    "import numpy as np"
   ]
  },
  {
   "cell_type": "markdown",
   "id": "2051437e",
   "metadata": {},
   "source": [
    "---\n",
    "<a name = Section1></a>\n",
    "# **1. Array Initialization**\n",
    "---\n",
    "\n",
    "- In this section, we will learn some array initalization methods such as:\n",
    "\n",
    "  - **.arange():** Generates an array of specifed range, step size (default is 1) and type of data to be stored.\n",
    "\n",
    "  - **.zeros():** Generate an array containing zero values.\n",
    "\n",
    "  - **.ones():** Generates an array containing ones as value.\n",
    "\n",
    "  - **.linspace():** Generates an evenly spaced numbers over a specified interval.\n",
    "\n",
    "  - **.eye():** Generates a 2-D array with ones on the diagonal and zeros elsewhere.\n",
    "  \n",
    "  - **.empty():** Generates an array with random values."
   ]
  },
  {
   "cell_type": "code",
   "execution_count": 9,
   "id": "b99fb0c3",
   "metadata": {},
   "outputs": [
    {
     "data": {
      "text/plain": [
       "array([0, 1, 2, 3, 4, 5, 6, 7, 8, 9])"
      ]
     },
     "execution_count": 9,
     "metadata": {},
     "output_type": "execute_result"
    }
   ],
   "source": [
    "# Generating an array of size 10 with a step size of 1\n",
    "np.arange(0,10,1,dtype=None)\n"
   ]
  },
  {
   "cell_type": "code",
   "execution_count": 10,
   "id": "79a98b33",
   "metadata": {},
   "outputs": [
    {
     "data": {
      "text/plain": [
       "array([0, 2, 4, 6, 8])"
      ]
     },
     "execution_count": 10,
     "metadata": {},
     "output_type": "execute_result"
    }
   ],
   "source": [
    "# Generating an array of size 10 with a step size of 2\n",
    "np.arange(0,10,2,dtype=None)"
   ]
  },
  {
   "cell_type": "markdown",
   "id": "9e676c02",
   "metadata": {},
   "source": [
    "Specifying your data type\n",
    "\n",
    "While the default data type is floating point (np.float64), you can explicitly specify which data type you want using the dtype keyword."
   ]
  },
  {
   "cell_type": "code",
   "execution_count": 12,
   "id": "f53331f5",
   "metadata": {},
   "outputs": [
    {
     "data": {
      "text/plain": [
       "array([0, 1, 2, 3, 4])"
      ]
     },
     "execution_count": 12,
     "metadata": {},
     "output_type": "execute_result"
    }
   ],
   "source": [
    "x = np.arange(0,5,1, dtype=np.int64)\n",
    "x"
   ]
  },
  {
   "cell_type": "code",
   "execution_count": 14,
   "id": "0b16e573",
   "metadata": {},
   "outputs": [
    {
     "data": {
      "text/plain": [
       "dtype('int64')"
      ]
     },
     "execution_count": 14,
     "metadata": {},
     "output_type": "execute_result"
    }
   ],
   "source": [
    "x.dtype"
   ]
  },
  {
   "cell_type": "code",
   "execution_count": 16,
   "id": "f74edff8",
   "metadata": {},
   "outputs": [
    {
     "data": {
      "text/plain": [
       "array([0., 0., 0., 0., 0.])"
      ]
     },
     "execution_count": 16,
     "metadata": {},
     "output_type": "execute_result"
    }
   ],
   "source": [
    "# Generates an array of size 5 containing zeros\n",
    "x=np.zeros(shape=5) \n",
    "x"
   ]
  },
  {
   "cell_type": "code",
   "execution_count": 17,
   "id": "cc8df4dd",
   "metadata": {},
   "outputs": [
    {
     "data": {
      "text/plain": [
       "dtype('float64')"
      ]
     },
     "execution_count": 17,
     "metadata": {},
     "output_type": "execute_result"
    }
   ],
   "source": [
    "x.dtype  # default data type is float64"
   ]
  },
  {
   "cell_type": "code",
   "execution_count": 21,
   "id": "a4502351",
   "metadata": {},
   "outputs": [
    {
     "name": "stdout",
     "output_type": "stream",
     "text": [
      "Dimentions: 2\n"
     ]
    },
    {
     "data": {
      "text/plain": [
       "array([[0., 0., 0.],\n",
       "       [0., 0., 0.],\n",
       "       [0., 0., 0.]])"
      ]
     },
     "execution_count": 21,
     "metadata": {},
     "output_type": "execute_result"
    }
   ],
   "source": [
    "# Generates an array of size 3 X 3 containing zeros\n",
    "x=np.zeros(shape=(3,3))\n",
    "\n",
    "# Display the resolution of two_dim_zeros variable\n",
    "print(\"Dimentions:\",x.ndim)\n",
    "\n",
    "# Output the result\n",
    "x"
   ]
  },
  {
   "cell_type": "code",
   "execution_count": 24,
   "id": "e9891186",
   "metadata": {},
   "outputs": [
    {
     "data": {
      "text/plain": [
       "array([[1., 1., 1.],\n",
       "       [1., 1., 1.],\n",
       "       [1., 1., 1.]])"
      ]
     },
     "execution_count": 24,
     "metadata": {},
     "output_type": "execute_result"
    }
   ],
   "source": [
    "# Generates an array of size 3 X 3 containing ones\n",
    "np.ones(shape=(3, 3)) "
   ]
  },
  {
   "cell_type": "code",
   "execution_count": 26,
   "id": "2e5c4085",
   "metadata": {},
   "outputs": [
    {
     "data": {
      "text/plain": [
       "array([5.73021895e-300, 8.04338871e-320])"
      ]
     },
     "execution_count": 26,
     "metadata": {},
     "output_type": "execute_result"
    }
   ],
   "source": [
    "# Create an empty array with 2 elements\n",
    "# The function empty creates an array whose initial content is random and depends on the state of the memory. \n",
    "# The reason to use empty over zeros (or something similar) is speed - just make sure to fill every element afterwards!\n",
    "\n",
    "np.empty(2)"
   ]
  },
  {
   "cell_type": "code",
   "execution_count": 31,
   "id": "20c7664f",
   "metadata": {},
   "outputs": [
    {
     "data": {
      "text/plain": [
       "array([ 0,  2,  5,  7, 10])"
      ]
     },
     "execution_count": 31,
     "metadata": {},
     "output_type": "execute_result"
    }
   ],
   "source": [
    "# Generates an evenly spaced numbers from 0 to 5\n",
    "np.linspace(0,10,num=5,dtype=np.int64)"
   ]
  },
  {
   "cell_type": "code",
   "execution_count": 35,
   "id": "2b00996c",
   "metadata": {},
   "outputs": [
    {
     "data": {
      "text/plain": [
       "array([[1., 0., 0.],\n",
       "       [0., 1., 0.],\n",
       "       [0., 0., 1.]])"
      ]
     },
     "execution_count": 35,
     "metadata": {},
     "output_type": "execute_result"
    }
   ],
   "source": [
    "# Generates a 2-D array with ones on the diagonal and zeros elsewhere\n",
    "np.eye(N=3,M=3)"
   ]
  },
  {
   "cell_type": "markdown",
   "id": "10da01e7",
   "metadata": {},
   "source": [
    "<a name = Section2></a>\n",
    "# **2. Random Array Initialization**\n",
    "---\n",
    "\n",
    "- In this section we are going to see how to populate array with random numbers.\n",
    "\n",
    "- We will get to know about the following two function of numpy:\n",
    "\n",
    "  - **.random.rand():** Create an array of the given shape and populate it with random samples from a uniform distribution over [0, 1).\n",
    "\n",
    "  - **.random.randn():** Return a sample (or samples) from the “standard normal” distribution of mean 0 and variance 1."
   ]
  },
  {
   "cell_type": "code",
   "execution_count": 7,
   "id": "5aa39bf5",
   "metadata": {},
   "outputs": [
    {
     "data": {
      "text/plain": [
       "array([0.47570344, 0.83889255, 0.09192647, 0.88198739, 0.61214737])"
      ]
     },
     "execution_count": 7,
     "metadata": {},
     "output_type": "execute_result"
    }
   ],
   "source": [
    "# Generates an array of 5 random values\n",
    "np.random.rand(5)"
   ]
  },
  {
   "cell_type": "code",
   "execution_count": 8,
   "id": "1569af78",
   "metadata": {},
   "outputs": [
    {
     "data": {
      "text/plain": [
       "array([[0.07943073, 0.73103597, 0.64285605, 0.68496918, 0.45957327],\n",
       "       [0.57677486, 0.65947872, 0.17028782, 0.79471141, 0.62129616],\n",
       "       [0.55039807, 0.64958394, 0.05999421, 0.00879708, 0.47509674],\n",
       "       [0.3179696 , 0.98757614, 0.44659073, 0.13905258, 0.02467442],\n",
       "       [0.22244206, 0.80570763, 0.46975067, 0.56112378, 0.52929541]])"
      ]
     },
     "execution_count": 8,
     "metadata": {},
     "output_type": "execute_result"
    }
   ],
   "source": [
    "# Generates an array of random values having resolution of 5 X 5\n",
    "np.random.rand(5,5)"
   ]
  },
  {
   "cell_type": "code",
   "execution_count": 10,
   "id": "61a57a66",
   "metadata": {},
   "outputs": [
    {
     "data": {
      "text/plain": [
       "array([[ 0.1784108 , -0.64468821, -0.40017917,  0.15388712],\n",
       "       [ 0.27938859,  0.09292261, -0.63262545,  1.77122441],\n",
       "       [-0.00344914, -0.18280183, -0.69669881,  1.504323  ],\n",
       "       [-1.30899909,  0.5866488 , -0.91949113, -0.23144205]])"
      ]
     },
     "execution_count": 10,
     "metadata": {},
     "output_type": "execute_result"
    }
   ],
   "source": [
    "# Generates an array of random values having resolution of 4 X 4\n",
    "np.random.randn(4,4)"
   ]
  },
  {
   "cell_type": "code",
   "execution_count": 19,
   "id": "1aa5f475",
   "metadata": {},
   "outputs": [
    {
     "name": "stdout",
     "output_type": "stream",
     "text": [
      "Random Array [0.17078218 0.29465142 0.68579803 0.2593407  0.60206532 0.04282903]\n",
      "Array Resolution: 1\n"
     ]
    },
    {
     "data": {
      "text/plain": [
       "array([[0.17078218, 0.29465142],\n",
       "       [0.68579803, 0.2593407 ],\n",
       "       [0.60206532, 0.04282903]])"
      ]
     },
     "execution_count": 19,
     "metadata": {},
     "output_type": "execute_result"
    }
   ],
   "source": [
    "# Generates an array of 6 random values\n",
    "rand_array = np.random.rand(6)\n",
    "\n",
    "# Display array containing random values\n",
    "print('Random Array', rand_array)\n",
    "\n",
    "# Display the resolution of the rand_array variable\n",
    "print('Array Resolution:', rand_array.ndim)\n",
    "\n",
    "# Reshape the 1-D array to 3 X 2 array and output the result\n",
    "rand_array.reshape(3, 2) "
   ]
  },
  {
   "cell_type": "code",
   "execution_count": 23,
   "id": "ee5fc6a8",
   "metadata": {},
   "outputs": [
    {
     "data": {
      "text/plain": [
       "array([[0.17078218, 0.29465142, 0.68579803, 0.2593407 , 0.60206532,\n",
       "        0.04282903]])"
      ]
     },
     "execution_count": 23,
     "metadata": {},
     "output_type": "execute_result"
    }
   ],
   "source": [
    "# With np.reshape, you can specify a few optional parameters:\n",
    "np.reshape(rand_array, newshape=(1, 6), order='C')"
   ]
  },
  {
   "cell_type": "markdown",
   "id": "445c7e33",
   "metadata": {},
   "source": [
    "a - is the array to be reshaped.\n",
    "\n",
    "newshape - is the new shape you want. You can specify an integer or a tuple of integers. If you specify an integer, the result will be an array of that length. The shape should be compatible with the original shape.\n",
    "\n",
    "order - C means to read/write the elements using C-like index order, F means to read/write the elements using Fortran-like index order, A means to read/write the elements in Fortran-like index order if a is Fortran contiguous in memory, C-like order otherwise. (This is an optional parameter and doesn’t need to be specified.)"
   ]
  },
  {
   "cell_type": "markdown",
   "id": "003aa8b9",
   "metadata": {},
   "source": [
    "**Observation:**\n",
    "\n",
    "- In various applications(like assigning weights in **Artificial Neural Networks**) arrays need to be initialized randomly."
   ]
  },
  {
   "cell_type": "markdown",
   "id": "b7d256a0",
   "metadata": {},
   "source": [
    "<a name = Section3></a>\n",
    "# **3. Numpy Indexing**\n",
    "---\n",
    "\n",
    "- In this section we will show how numpy based elements are indexed and how to access these elements."
   ]
  },
  {
   "cell_type": "code",
   "execution_count": 10,
   "id": "62a1073a",
   "metadata": {},
   "outputs": [
    {
     "name": "stdout",
     "output_type": "stream",
     "text": [
      "Full Array: [ 0  1  2  3  4  5  6  7  8  9 10]\n",
      "First element: 1\n"
     ]
    }
   ],
   "source": [
    "# Creating an array of 10 values ranging from 0 to 11\n",
    "my_array=np.arange(11)\n",
    "\n",
    "# Display the array elements\n",
    "print('Full Array:', my_array)\n",
    "\n",
    "# Display the element present at index 1\n",
    "print('First element:', my_array[1])"
   ]
  },
  {
   "cell_type": "markdown",
   "id": "3b6515e8",
   "metadata": {},
   "source": [
    "**Observation:**\n",
    "\n",
    "- We just saw that we can access individual elements of an array by calling them by their indices."
   ]
  },
  {
   "cell_type": "markdown",
   "id": "2f59ae28",
   "metadata": {},
   "source": [
    "<a name = Section31></a>\n",
    "## **3.1 Array Slicing**\n",
    "\n",
    "- To access more than one element of an array use slicing operations."
   ]
  },
  {
   "cell_type": "code",
   "execution_count": 11,
   "id": "cce2f75d",
   "metadata": {},
   "outputs": [
    {
     "name": "stdout",
     "output_type": "stream",
     "text": [
      "Full Array: [ 0  1  2  3  4  5  6  7  8  9 10]\n"
     ]
    }
   ],
   "source": [
    "# Creating an array of 10 values ranging from 0 to 11\n",
    "my_arr = np.arange(0, 11, 1)\n",
    "\n",
    "# Display the array elements\n",
    "print('Full Array:', my_arr)"
   ]
  },
  {
   "cell_type": "code",
   "execution_count": 12,
   "id": "05064f5d",
   "metadata": {},
   "outputs": [
    {
     "data": {
      "text/plain": [
       "array([1, 2, 3, 4])"
      ]
     },
     "execution_count": 12,
     "metadata": {},
     "output_type": "execute_result"
    }
   ],
   "source": [
    "# Accessing elements ranging from index 1 to 5\n",
    "my_arr[1:5]"
   ]
  },
  {
   "cell_type": "markdown",
   "id": "bd9084cb",
   "metadata": {},
   "source": [
    "- **Note:** The first element that is extracted is of index 1 and the last element to be extracted is of index 5-1=4."
   ]
  },
  {
   "cell_type": "code",
   "execution_count": 13,
   "id": "494a021d",
   "metadata": {},
   "outputs": [
    {
     "data": {
      "text/plain": [
       "array([ 8,  9, 10])"
      ]
     },
     "execution_count": 13,
     "metadata": {},
     "output_type": "execute_result"
    }
   ],
   "source": [
    "# Accessing elements ranging from index 8 onwards\n",
    "my_arr[8:]"
   ]
  },
  {
   "cell_type": "code",
   "execution_count": 14,
   "id": "5dd64a00",
   "metadata": {},
   "outputs": [
    {
     "data": {
      "text/plain": [
       "array([0, 1, 2, 3, 4, 5])"
      ]
     },
     "execution_count": 14,
     "metadata": {},
     "output_type": "execute_result"
    }
   ],
   "source": [
    "# Accessing elements ranging till index 6\n",
    "my_arr[:6]"
   ]
  },
  {
   "cell_type": "markdown",
   "id": "084d19d0",
   "metadata": {},
   "source": [
    "- **Note:** Numpy arrays are **mutable**. It implies that you can change the values of the array."
   ]
  },
  {
   "cell_type": "code",
   "execution_count": 15,
   "id": "4c39be9b",
   "metadata": {},
   "outputs": [],
   "source": [
    "# Mapping value -5 ranging index 0 to 5\n",
    "my_arr[0:5]=-5"
   ]
  },
  {
   "cell_type": "code",
   "execution_count": 16,
   "id": "c9f5bedf",
   "metadata": {},
   "outputs": [
    {
     "data": {
      "text/plain": [
       "array([-5, -5, -5, -5, -5,  5,  6,  7,  8,  9, 10])"
      ]
     },
     "execution_count": 16,
     "metadata": {},
     "output_type": "execute_result"
    }
   ],
   "source": [
    "my_arr"
   ]
  },
  {
   "cell_type": "markdown",
   "id": "356e3751",
   "metadata": {},
   "source": [
    "- You can also perform slicing operations on 2-D array."
   ]
  },
  {
   "cell_type": "code",
   "execution_count": 19,
   "id": "c6291eb9",
   "metadata": {},
   "outputs": [],
   "source": [
    "# Initializing an array of resolution 4 X 3\n",
    "arr2d = np.array([[1,2,3],\n",
    "                [4,5,6],\n",
    "                [7,8,9],\n",
    "                [10,11,12]])"
   ]
  },
  {
   "cell_type": "code",
   "execution_count": 21,
   "id": "ac11124e",
   "metadata": {},
   "outputs": [
    {
     "data": {
      "text/plain": [
       "array([[ 1,  2,  3],\n",
       "       [ 4,  5,  6],\n",
       "       [ 7,  8,  9],\n",
       "       [10, 11, 12]])"
      ]
     },
     "execution_count": 21,
     "metadata": {},
     "output_type": "execute_result"
    }
   ],
   "source": [
    "# Ouput the 2-D array\n",
    "arr2d"
   ]
  },
  {
   "cell_type": "code",
   "execution_count": 22,
   "id": "ad8ac232",
   "metadata": {},
   "outputs": [],
   "source": [
    "# It could also be achieved using arange(0, 12), and then using reshape(4, 3)\n",
    "arr2d = np.arange(12).reshape(4,3)"
   ]
  },
  {
   "cell_type": "code",
   "execution_count": 23,
   "id": "b30f7876",
   "metadata": {},
   "outputs": [
    {
     "data": {
      "text/plain": [
       "array([[ 0,  1,  2],\n",
       "       [ 3,  4,  5],\n",
       "       [ 6,  7,  8],\n",
       "       [ 9, 10, 11]])"
      ]
     },
     "execution_count": 23,
     "metadata": {},
     "output_type": "execute_result"
    }
   ],
   "source": [
    "arr2d"
   ]
  },
  {
   "cell_type": "code",
   "execution_count": 24,
   "id": "9850062a",
   "metadata": {},
   "outputs": [
    {
     "data": {
      "text/plain": [
       "2"
      ]
     },
     "execution_count": 24,
     "metadata": {},
     "output_type": "execute_result"
    }
   ],
   "source": [
    "# Accessing element present at 0th row and 2nd column\n",
    "arr2d[0,2]"
   ]
  },
  {
   "cell_type": "code",
   "execution_count": 26,
   "id": "3b3436c8",
   "metadata": {},
   "outputs": [
    {
     "data": {
      "text/plain": [
       "array([[0, 1],\n",
       "       [3, 4]])"
      ]
     },
     "execution_count": 26,
     "metadata": {},
     "output_type": "execute_result"
    }
   ],
   "source": [
    "# Accessing elements from rows (1st and 2nd) and columns (1st and 2nd)\n",
    "arr2d[0:2,0:2]"
   ]
  },
  {
   "cell_type": "code",
   "execution_count": 27,
   "id": "4207647c",
   "metadata": {},
   "outputs": [
    {
     "data": {
      "text/plain": [
       "array([[1, 2],\n",
       "       [4, 5]])"
      ]
     },
     "execution_count": 27,
     "metadata": {},
     "output_type": "execute_result"
    }
   ],
   "source": [
    "# Accessing elements from rows (till 2nd) and columns (1st onwards)\n",
    "arr2d[:2,1:]"
   ]
  },
  {
   "cell_type": "markdown",
   "id": "89bcc7a5",
   "metadata": {},
   "source": [
    "**Observation:**\n",
    "\n",
    "- So, through these examples we have seen that we can access one or multiple elements of an array using slicing.\n",
    "\n",
    "- Also at times when needed we can extract subarrays from an array."
   ]
  },
  {
   "cell_type": "markdown",
   "id": "e6850c89",
   "metadata": {},
   "source": [
    "<a name = Section32></a>\n",
    "## **3.2 Conditional Array Indexing**\n",
    "\n",
    "- Here, we will observe how to **filter** element of an **array** based on some conditions.\n",
    "\n",
    "- First, we need to create a **boolean array** based on an conditional statement using **conditional operators** for comparison.\n",
    "\n",
    "- Then this boolean array is passed as index of the original array to return the filtered elements."
   ]
  },
  {
   "cell_type": "code",
   "execution_count": 33,
   "id": "8e998145",
   "metadata": {},
   "outputs": [
    {
     "name": "stdout",
     "output_type": "stream",
     "text": [
      "Elements: [1 2 3 4 5 6]\n"
     ]
    },
    {
     "data": {
      "text/plain": [
       "array([False, False,  True,  True,  True,  True])"
      ]
     },
     "execution_count": 33,
     "metadata": {},
     "output_type": "execute_result"
    }
   ],
   "source": [
    "# Create a list of elements\n",
    "my_list=[1,2,3,4,5,6]\n",
    "\n",
    "# Cast to numpy array\n",
    "arr = np.array(object=my_list)\n",
    "\n",
    "# Display the array elements\n",
    "print(\"Elements:\",arr)\n",
    "\n",
    "# Output boolean values (True for element greater than 2)\n",
    "arr>2"
   ]
  },
  {
   "cell_type": "code",
   "execution_count": 39,
   "id": "ddc1dc86",
   "metadata": {},
   "outputs": [
    {
     "name": "stdout",
     "output_type": "stream",
     "text": [
      "Array: [ 2  3  4  5  6  7  8  9 10 11 12 13 14]\n",
      "Length: 13\n"
     ]
    }
   ],
   "source": [
    "# Initialize an array ranging from 2 to 15\n",
    "my_array = np.arange(2,15)\n",
    "\n",
    "# Display the elements of an array\n",
    "print('Array:', my_array)\n",
    "\n",
    "# Display the lenght of array\n",
    "print('Length:',len(my_array))\n"
   ]
  },
  {
   "cell_type": "code",
   "execution_count": 41,
   "id": "4026a6f7",
   "metadata": {},
   "outputs": [
    {
     "data": {
      "text/plain": [
       "array([2, 4, 6])"
      ]
     },
     "execution_count": 41,
     "metadata": {},
     "output_type": "execute_result"
    }
   ],
   "source": [
    "# Example 1: Output elements that have True as condition\n",
    "my_array[[True, False, True, False, True, False, False, False, False, False, False, False, False]]"
   ]
  },
  {
   "cell_type": "code",
   "execution_count": 42,
   "id": "34a633d6",
   "metadata": {},
   "outputs": [
    {
     "data": {
      "text/plain": [
       "array([ 9, 10, 11, 12, 13, 14])"
      ]
     },
     "execution_count": 42,
     "metadata": {},
     "output_type": "execute_result"
    }
   ],
   "source": [
    "# Example 2: Output elements that have True as condition\n",
    "my_array[[False, False, False, False, False, False, False, True, True, True, True, True, True]]"
   ]
  },
  {
   "cell_type": "code",
   "execution_count": 44,
   "id": "bc27884d",
   "metadata": {},
   "outputs": [
    {
     "data": {
      "text/plain": [
       "array([False, False, False, False, False, False, False,  True,  True,\n",
       "        True,  True,  True,  True])"
      ]
     },
     "execution_count": 44,
     "metadata": {},
     "output_type": "execute_result"
    }
   ],
   "source": [
    "# Output boolean values (True for element greater than 8)\n",
    "my_array>8"
   ]
  },
  {
   "cell_type": "code",
   "execution_count": 45,
   "id": "37cf67cf",
   "metadata": {},
   "outputs": [
    {
     "data": {
      "text/plain": [
       "array([ 9, 10, 11, 12, 13, 14])"
      ]
     },
     "execution_count": 45,
     "metadata": {},
     "output_type": "execute_result"
    }
   ],
   "source": [
    "# Output actual values based on the condition passed (elements greater than 8)\n",
    "my_array[my_array>8]"
   ]
  },
  {
   "cell_type": "code",
   "execution_count": 46,
   "id": "8b10438c",
   "metadata": {},
   "outputs": [
    {
     "data": {
      "text/plain": [
       "array([3, 6])"
      ]
     },
     "execution_count": 46,
     "metadata": {},
     "output_type": "execute_result"
    }
   ],
   "source": [
    "# Output values present at index 1 and 4\n",
    "my_array[[1,4]]"
   ]
  },
  {
   "cell_type": "code",
   "execution_count": 47,
   "id": "d23f9aa4",
   "metadata": {},
   "outputs": [
    {
     "data": {
      "text/plain": [
       "array([3, 6])"
      ]
     },
     "execution_count": 47,
     "metadata": {},
     "output_type": "execute_result"
    }
   ],
   "source": [
    "# Output elements that have True as condition\n",
    "my_array[[False, True, False, False, True, False, False, False, False, False, False, False, False]]"
   ]
  },
  {
   "cell_type": "markdown",
   "id": "0c402bd2",
   "metadata": {},
   "source": [
    "**Observation:**\n",
    "\n",
    "- Use conditional indexing to filter out some values like null or outliers in an array.\n",
    "\n",
    "- Given below is a table where you can see what are the various operators available in Python.\n",
    "\n",
    "<center><img src=\"https://www.oreilly.com/library/view/visual-basic-2012/9781118332085/images/f253-01.jpg\"></center>"
   ]
  },
  {
   "cell_type": "markdown",
   "id": "08b4de51",
   "metadata": {},
   "source": [
    "---\n",
    "<a name = Section4></a>\n",
    "# **4. Numpy Array Operations**\n",
    "---\n",
    "\n",
    "- In this section we will observe various arithmatic operations on numpy arrays."
   ]
  },
  {
   "cell_type": "markdown",
   "id": "2f6613c2",
   "metadata": {},
   "source": [
    "<a name = Section41></a>\n",
    "## **4.1 Numpy Broadcasting**\n",
    "\n",
    "- The term broadcasting describes **how numpy treats arrays** with **different shapes** during arithmetic operations. \n",
    "\n",
    "- Subject to certain constraints, the smaller array is “broadcast” across the larger array so that they have compatible shapes.\n",
    "\n",
    "- Broadcasting provides a means of **vectorizing array operations** so that looping occurs in C instead of Python. \n",
    "\n",
    "- It does this **without** making **needless copies of data** and usually leads to efficient algorithm implementations. \n",
    "\n",
    "- There are, however, cases where broadcasting is a bad idea because it leads to inefficient use of memory that slows computation.\n",
    "\n",
    "- NumPy operations are usually done on pairs of arrays on an element-by-element basis. \n",
    "\n",
    "- In the simplest case, the two arrays must have exactly the same shape, as in the following example:"
   ]
  },
  {
   "cell_type": "code",
   "execution_count": 50,
   "id": "d2cecf27",
   "metadata": {},
   "outputs": [
    {
     "data": {
      "text/plain": [
       "array([2., 4., 6.])"
      ]
     },
     "execution_count": 50,
     "metadata": {},
     "output_type": "execute_result"
    }
   ],
   "source": [
    "# First array of three elements\n",
    "a = np.array([1.0, 2.0, 3.0])\n",
    "\n",
    "# Second array of three elements\n",
    "b = np.array([2.0, 2.0, 2.0])\n",
    "\n",
    "# Output the result of broadcasting\n",
    "a*b"
   ]
  },
  {
   "cell_type": "code",
   "execution_count": 53,
   "id": "6a59a407",
   "metadata": {},
   "outputs": [
    {
     "data": {
      "text/plain": [
       "array([3., 4., 5.])"
      ]
     },
     "execution_count": 53,
     "metadata": {},
     "output_type": "execute_result"
    }
   ],
   "source": [
    "# Output the result of broadcasting\n",
    "a+b"
   ]
  },
  {
   "cell_type": "markdown",
   "id": "d2d9b37c",
   "metadata": {},
   "source": [
    "- NumPy’s broadcasting rule relaxes this constraint when the arrays’ shapes meet certain constraints. \n",
    "\n",
    "- The simplest broadcasting example occurs when an array and a scalar value are combined in an operation:"
   ]
  },
  {
   "cell_type": "code",
   "execution_count": 54,
   "id": "08e2b93e",
   "metadata": {},
   "outputs": [
    {
     "data": {
      "text/plain": [
       "array([2., 4., 6.])"
      ]
     },
     "execution_count": 54,
     "metadata": {},
     "output_type": "execute_result"
    }
   ],
   "source": [
    "# An array of three elements\n",
    "a = np.array([1.0, 2.0, 3.0])\n",
    "\n",
    "\n",
    "# Initialize variable with scalar value\n",
    "b = 2.0\n",
    "\n",
    "# Output the result of broadcasting\n",
    "a * b"
   ]
  },
  {
   "cell_type": "code",
   "execution_count": 59,
   "id": "1d467f7a",
   "metadata": {},
   "outputs": [
    {
     "name": "stdout",
     "output_type": "stream",
     "text": [
      "Shape of Array: (4, 3)\n"
     ]
    },
    {
     "data": {
      "text/plain": [
       "array([[ 1,  2,  3],\n",
       "       [ 4,  5,  6],\n",
       "       [ 7,  8,  9],\n",
       "       [10, 11, 12]])"
      ]
     },
     "execution_count": 59,
     "metadata": {},
     "output_type": "execute_result"
    }
   ],
   "source": [
    "# Initialized array of resolution 4 X 3\n",
    "my_arr = np.arange(1,13).reshape(4,3)\n",
    "\n",
    "# Initialize scaler with a constant value\n",
    "scalar = 3\n",
    "\n",
    "# Display the shape of 2-D array\n",
    "print('Shape of Array:', my_arr.shape)\n",
    "\n",
    "# Output the 2-D array\n",
    "my_arr"
   ]
  },
  {
   "cell_type": "code",
   "execution_count": 60,
   "id": "bd5d498f",
   "metadata": {},
   "outputs": [
    {
     "data": {
      "text/plain": [
       "array([[ 4,  5,  6],\n",
       "       [ 7,  8,  9],\n",
       "       [10, 11, 12],\n",
       "       [13, 14, 15]])"
      ]
     },
     "execution_count": 60,
     "metadata": {},
     "output_type": "execute_result"
    }
   ],
   "source": [
    "# Output of broadcasting scalar value to the array\n",
    "my_arr + scalar"
   ]
  },
  {
   "cell_type": "markdown",
   "id": "518d4d9a",
   "metadata": {},
   "source": [
    "**Observation:**\n",
    "\n",
    "- We can observe that scalar is stretched and is added to all of the elements of an array."
   ]
  },
  {
   "cell_type": "code",
   "execution_count": 64,
   "id": "6c66e065",
   "metadata": {},
   "outputs": [
    {
     "name": "stdout",
     "output_type": "stream",
     "text": [
      "shape: (3,)\n"
     ]
    },
    {
     "data": {
      "text/plain": [
       "array([10, 10, 10])"
      ]
     },
     "execution_count": 64,
     "metadata": {},
     "output_type": "execute_result"
    }
   ],
   "source": [
    "# Initialized 1-D array\n",
    "arr_1d = np.array([10, 10, 10])\n",
    "\n",
    "# Display the shape of 1-D array\n",
    "print('shape:', arr_1d.shape)\n",
    "\n",
    "# Output the 1-D array\n",
    "arr_1d"
   ]
  },
  {
   "cell_type": "code",
   "execution_count": 66,
   "id": "5b96105c",
   "metadata": {},
   "outputs": [
    {
     "data": {
      "text/plain": [
       "array([[11, 12, 13],\n",
       "       [14, 15, 16],\n",
       "       [17, 18, 19],\n",
       "       [20, 21, 22]])"
      ]
     },
     "execution_count": 66,
     "metadata": {},
     "output_type": "execute_result"
    }
   ],
   "source": [
    "# Ouput broadcasted values to the 2-D array\n",
    "my_arr + arr_1d"
   ]
  },
  {
   "cell_type": "markdown",
   "id": "dc75fd81",
   "metadata": {},
   "source": [
    "**Observation:**\n",
    "\n",
    "- We observed that array with lower dimension i.e. arr_1d is stretched such that it matches the dimensions of arr_2d.\n",
    "\n",
    "- Let's learn it better with one diagramatic example.\n",
    "\n",
    "<center><img src=\"https://github.com/insaid2018/Term-1/blob/master/Images/broadcasting.png?raw=true\"></center>"
   ]
  },
  {
   "cell_type": "markdown",
   "id": "bc1704bf",
   "metadata": {},
   "source": [
    "- From the above image you can see how and when the **data** is **stretched** to carry out the mathematical operations. \n",
    "\n",
    "- Here we have performed addition on arrays of varying dimensions. Always Remember to stretch the data as per the __broadcasting rules.__\n",
    "\n",
    "- Now lets look at a different shape of array."
   ]
  },
  {
   "cell_type": "code",
   "execution_count": 67,
   "id": "61a7d8e2",
   "metadata": {},
   "outputs": [
    {
     "name": "stdout",
     "output_type": "stream",
     "text": [
      "shape: (1, 4)\n"
     ]
    },
    {
     "data": {
      "text/plain": [
       "array([[1, 1, 1, 1]])"
      ]
     },
     "execution_count": 67,
     "metadata": {},
     "output_type": "execute_result"
    }
   ],
   "source": [
    "# Initialized 2-D array\n",
    "arr = np.array([[1, 1, 1, 1]])\n",
    "\n",
    "# Display the shape of 2-D array\n",
    "print('shape:', arr.shape)\n",
    "\n",
    "# Output the 2-D array\n",
    "arr"
   ]
  },
  {
   "cell_type": "code",
   "execution_count": 68,
   "id": "023ef261",
   "metadata": {},
   "outputs": [
    {
     "ename": "NameError",
     "evalue": "name 'arr_2d' is not defined",
     "output_type": "error",
     "traceback": [
      "\u001b[1;31m---------------------------------------------------------------------------\u001b[0m",
      "\u001b[1;31mNameError\u001b[0m                                 Traceback (most recent call last)",
      "\u001b[1;32m<ipython-input-68-d07f081190f3>\u001b[0m in \u001b[0;36m<module>\u001b[1;34m\u001b[0m\n\u001b[0;32m      1\u001b[0m \u001b[1;31m# Ouput broadcasted values to the 2-D array\u001b[0m\u001b[1;33m\u001b[0m\u001b[1;33m\u001b[0m\u001b[1;33m\u001b[0m\u001b[0m\n\u001b[1;32m----> 2\u001b[1;33m \u001b[0marr_2d\u001b[0m \u001b[1;33m+\u001b[0m \u001b[0marr\u001b[0m\u001b[1;33m\u001b[0m\u001b[1;33m\u001b[0m\u001b[0m\n\u001b[0m",
      "\u001b[1;31mNameError\u001b[0m: name 'arr_2d' is not defined"
     ]
    }
   ],
   "source": [
    "# Ouput broadcasted values to the 2-D array\n",
    "arr_2d + arr"
   ]
  },
  {
   "cell_type": "markdown",
   "id": "f3063293",
   "metadata": {},
   "source": [
    "**Observation:**\n",
    "\n",
    "- If the **dimensions do not match** it will **throw** an **exception**.\n",
    "\n",
    "- It is **advisable** to **keep a note of the shape** or dimension of the arrays before applying any mathematical operation.\n",
    "\n",
    "- And make sure they satisfy the broadcasting rules else value error may occur."
   ]
  },
  {
   "cell_type": "markdown",
   "id": "c0e8c0c1",
   "metadata": {},
   "source": [
    "<a name = Section42></a>\n",
    "## **4.2 Numpy Mathematical Functions**\n",
    "\n",
    "- In this section we will observe faster and optimized mathematicalfunctions that we can apply for large size arrays.\n",
    "\n",
    "- We will try out following functions with respect to an array:\n",
    "\n",
    "  - **.min():** Return the minimum along a given axis.\n",
    "\n",
    "  - **.max():** Return the maximum along a given axis.\n",
    "\n",
    "  - **.argmin():** Returns the indices of the minimum values along an axis.\n",
    "\n",
    "  - **.argmax():** Returns the indices of the maximum values along an axis.\n",
    "\n",
    "  - **.sqrt():** Return the non-negative square-root of an array, element-wise.\n",
    "\n",
    "  - **.mean():** Compute the arithmetic mean along the specified axis.\n",
    "\n",
    "  - **.exp():** Calculate the exponential of all elements in the input array."
   ]
  },
  {
   "cell_type": "code",
   "execution_count": 76,
   "id": "dd8f0cbb",
   "metadata": {},
   "outputs": [
    {
     "data": {
      "text/plain": [
       "array([ 1,  2,  3,  4,  5,  6,  7,  8,  9, 10])"
      ]
     },
     "execution_count": 76,
     "metadata": {},
     "output_type": "execute_result"
    }
   ],
   "source": [
    "# Initialize an array of elements ranging from 1 to 11\n",
    "arr= np.arange(1,11)\n",
    "\n",
    "# Output the array\n",
    "arr"
   ]
  },
  {
   "cell_type": "code",
   "execution_count": 77,
   "id": "e9559585",
   "metadata": {},
   "outputs": [
    {
     "name": "stdout",
     "output_type": "stream",
     "text": [
      "Minimum value in an array: 1\n",
      "Maximum value in an array: 10\n",
      "Minimum index in an array: 0\n",
      "Maximum index in an array: 9\n",
      "Mean of an array: 5.5\n"
     ]
    }
   ],
   "source": [
    "print('Minimum value in an array:', arr.min())\n",
    "print('Maximum value in an array:', arr.max())\n",
    "print('Minimum index in an array:', arr.argmin())\n",
    "print('Maximum index in an array:', arr.argmax())\n",
    "print('Mean of an array:', arr.mean())"
   ]
  },
  {
   "cell_type": "code",
   "execution_count": 78,
   "id": "3f010391",
   "metadata": {},
   "outputs": [],
   "source": [
    "arr = np.array([ 5,  2,  3,  4,  1,  6,  7,  8,  9, 10])"
   ]
  },
  {
   "cell_type": "code",
   "execution_count": 79,
   "id": "b83ad732",
   "metadata": {},
   "outputs": [
    {
     "name": "stdout",
     "output_type": "stream",
     "text": [
      "Minimum value in an array: 1\n",
      "Maximum value in an array: 10\n",
      "Minimum index in an array: 4\n",
      "Maximum index in an array: 9\n",
      "Mean of an array: 5.5\n"
     ]
    }
   ],
   "source": [
    "print('Minimum value in an array:', arr.min())\n",
    "print('Maximum value in an array:', arr.max())\n",
    "print('Minimum index in an array:', arr.argmin())\n",
    "print('Maximum index in an array:', arr.argmax())\n",
    "print('Mean of an array:', arr.mean())"
   ]
  },
  {
   "cell_type": "code",
   "execution_count": 72,
   "id": "8056a0e2",
   "metadata": {},
   "outputs": [
    {
     "name": "stdout",
     "output_type": "stream",
     "text": [
      "Square Root of elements in an array: [1.         1.41421356 1.73205081 2.         2.23606798 2.44948974\n",
      " 2.64575131 2.82842712 3.         3.16227766]\n",
      "Exponent of elements in an array: [2.71828183e+00 7.38905610e+00 2.00855369e+01 5.45981500e+01\n",
      " 1.48413159e+02 4.03428793e+02 1.09663316e+03 2.98095799e+03\n",
      " 8.10308393e+03 2.20264658e+04]\n"
     ]
    }
   ],
   "source": [
    "print('Square Root of elements in an array:', np.sqrt(arr))\n",
    "print('Exponent of elements in an array:', np.exp(arr))"
   ]
  },
  {
   "cell_type": "markdown",
   "id": "e84c2e74",
   "metadata": {},
   "source": [
    "- You can aggregate matrices the same way you aggregated vectors:"
   ]
  },
  {
   "cell_type": "code",
   "execution_count": 86,
   "id": "2f12f1d9",
   "metadata": {},
   "outputs": [
    {
     "data": {
      "text/plain": [
       "array([[1, 2],\n",
       "       [3, 4],\n",
       "       [5, 6]])"
      ]
     },
     "execution_count": 86,
     "metadata": {},
     "output_type": "execute_result"
    }
   ],
   "source": [
    "data = np.array([[1, 2], [3, 4], [5, 6]])\n",
    "data"
   ]
  },
  {
   "cell_type": "code",
   "execution_count": 83,
   "id": "b6af00c6",
   "metadata": {},
   "outputs": [
    {
     "data": {
      "text/plain": [
       "6"
      ]
     },
     "execution_count": 83,
     "metadata": {},
     "output_type": "execute_result"
    }
   ],
   "source": [
    "data.max()"
   ]
  },
  {
   "cell_type": "code",
   "execution_count": 84,
   "id": "a07c0b0c",
   "metadata": {},
   "outputs": [
    {
     "data": {
      "text/plain": [
       "1"
      ]
     },
     "execution_count": 84,
     "metadata": {},
     "output_type": "execute_result"
    }
   ],
   "source": [
    "data.min()"
   ]
  },
  {
   "cell_type": "code",
   "execution_count": 85,
   "id": "9b12899b",
   "metadata": {},
   "outputs": [
    {
     "data": {
      "text/plain": [
       "21"
      ]
     },
     "execution_count": 85,
     "metadata": {},
     "output_type": "execute_result"
    }
   ],
   "source": [
    "data.sum()"
   ]
  },
  {
   "cell_type": "markdown",
   "id": "90ae7585",
   "metadata": {},
   "source": [
    "- You can aggregate all the values in a matrix and you can aggregate them across columns or rows using the axis parameter:"
   ]
  },
  {
   "cell_type": "code",
   "execution_count": 87,
   "id": "2c5420a1",
   "metadata": {},
   "outputs": [
    {
     "data": {
      "text/plain": [
       "array([5, 6])"
      ]
     },
     "execution_count": 87,
     "metadata": {},
     "output_type": "execute_result"
    }
   ],
   "source": [
    "data.max(axis=0)"
   ]
  },
  {
   "cell_type": "code",
   "execution_count": 88,
   "id": "850afaf3",
   "metadata": {},
   "outputs": [
    {
     "data": {
      "text/plain": [
       "array([2, 4, 6])"
      ]
     },
     "execution_count": 88,
     "metadata": {},
     "output_type": "execute_result"
    }
   ],
   "source": [
    "data.max(axis=1)"
   ]
  },
  {
   "cell_type": "markdown",
   "id": "1bf56a40",
   "metadata": {},
   "source": [
    "**Observation:**\n",
    "\n",
    "- We saw various methods to do various mathematical operations like minimum, maximum, finding mean, finding exponent.\n",
    "\n",
    "- There are more functions available to calculate various statistical parameters."
   ]
  },
  {
   "cell_type": "markdown",
   "id": "7368f7c7",
   "metadata": {},
   "source": [
    "<a name = Section43></a>\n",
    "## **4.3 How to get unique items and counts**"
   ]
  },
  {
   "cell_type": "markdown",
   "id": "4f879307",
   "metadata": {},
   "source": [
    "- **You can find the unique elements in an array easily with np.unique.**"
   ]
  },
  {
   "cell_type": "code",
   "execution_count": 92,
   "id": "a31aa004",
   "metadata": {},
   "outputs": [
    {
     "name": "stdout",
     "output_type": "stream",
     "text": [
      "[11 12 13 14 15 16 17 18 19 20]\n"
     ]
    }
   ],
   "source": [
    "a = np.array([11, 11, 12, 13, 14, 15, 16, 17, 12, 13, 11, 14, 18, 19, 20])\n",
    "    \n",
    "unique_values = np.unique(a)\n",
    "print(unique_values)"
   ]
  },
  {
   "cell_type": "markdown",
   "id": "63484ddf",
   "metadata": {},
   "source": [
    "- **To get the indices of unique values in a NumPy array (an array of first index positions of unique values in the array), just pass the return_index argument in np.unique() as well as your array.**"
   ]
  },
  {
   "cell_type": "code",
   "execution_count": 97,
   "id": "778b1fcf",
   "metadata": {},
   "outputs": [
    {
     "name": "stdout",
     "output_type": "stream",
     "text": [
      "[11 12 13 14 15 16 17 18 19 20]\n",
      "[ 0  2  3  4  5  6  7 12 13 14]\n"
     ]
    }
   ],
   "source": [
    "unique_values,unique_index = np.unique(a,return_index=True)\n",
    "\n",
    "print(unique_values)\n",
    "print(unique_index)"
   ]
  },
  {
   "cell_type": "markdown",
   "id": "16d1f081",
   "metadata": {},
   "source": [
    "- **You can pass the return_counts argument in np.unique() along with your array to get the frequency count of unique values in a NumPy array.**"
   ]
  },
  {
   "cell_type": "code",
   "execution_count": 99,
   "id": "4ba51307",
   "metadata": {},
   "outputs": [
    {
     "name": "stdout",
     "output_type": "stream",
     "text": [
      "[3 2 2 2 1 1 1 1 1 1]\n",
      "[11 12 13 14 15 16 17 18 19 20]\n"
     ]
    }
   ],
   "source": [
    "unique_values,occurrence_count = np.unique(a, return_counts=True)\n",
    "\n",
    "print(occurrence_count, end=\"\\n\")\n",
    "print(unique_values)"
   ]
  },
  {
   "cell_type": "markdown",
   "id": "f042790d",
   "metadata": {},
   "source": [
    "- **This also works with 2D arrays! If you start with this array:**"
   ]
  },
  {
   "cell_type": "code",
   "execution_count": 100,
   "id": "10eb7fe6",
   "metadata": {},
   "outputs": [],
   "source": [
    "a_2d = np.array([[1, 2, 3, 4], [5, 6, 7, 8], [9, 10, 11, 12], [1, 2, 3, 4]])"
   ]
  },
  {
   "cell_type": "code",
   "execution_count": 101,
   "id": "00a745c0",
   "metadata": {},
   "outputs": [
    {
     "name": "stdout",
     "output_type": "stream",
     "text": [
      "[ 1  2  3  4  5  6  7  8  9 10 11 12]\n"
     ]
    }
   ],
   "source": [
    "unique_values = np.unique(a_2d)\n",
    "print(unique_values)"
   ]
  },
  {
   "cell_type": "markdown",
   "id": "010b82b4",
   "metadata": {},
   "source": [
    "- **If the axis argument isn’t passed, your 2D array will be flattened.**\n",
    "\n",
    "- **If you want to get the unique rows or columns, make sure to pass the axis argument. To find the unique rows, specify axis=0 and for columns, specify axis=1.**"
   ]
  },
  {
   "cell_type": "code",
   "execution_count": 104,
   "id": "d05c6ecb",
   "metadata": {},
   "outputs": [
    {
     "data": {
      "text/plain": [
       "array([[ 1,  2,  3,  4],\n",
       "       [ 5,  6,  7,  8],\n",
       "       [ 9, 10, 11, 12],\n",
       "       [ 1,  2,  3,  4]])"
      ]
     },
     "execution_count": 104,
     "metadata": {},
     "output_type": "execute_result"
    }
   ],
   "source": [
    "a_2d"
   ]
  },
  {
   "cell_type": "code",
   "execution_count": 103,
   "id": "c81673b4",
   "metadata": {},
   "outputs": [
    {
     "data": {
      "text/plain": [
       "array([[ 1,  2,  3,  4],\n",
       "       [ 5,  6,  7,  8],\n",
       "       [ 9, 10, 11, 12]])"
      ]
     },
     "execution_count": 103,
     "metadata": {},
     "output_type": "execute_result"
    }
   ],
   "source": [
    "unique_rows = np.unique(a_2d, axis=0)\n",
    "\n",
    "unique_rows"
   ]
  },
  {
   "cell_type": "code",
   "execution_count": 105,
   "id": "286209f2",
   "metadata": {},
   "outputs": [],
   "source": [
    "unique_rows, indices, occurrence_count = np.unique(a_2d, axis=0, return_counts=True, return_index=True)"
   ]
  },
  {
   "cell_type": "code",
   "execution_count": 106,
   "id": "4040e685",
   "metadata": {},
   "outputs": [
    {
     "name": "stdout",
     "output_type": "stream",
     "text": [
      "[[ 1  2  3  4]\n",
      " [ 5  6  7  8]\n",
      " [ 9 10 11 12]]\n"
     ]
    }
   ],
   "source": [
    "print(unique_rows)"
   ]
  },
  {
   "cell_type": "code",
   "execution_count": 107,
   "id": "b9d13b72",
   "metadata": {},
   "outputs": [
    {
     "name": "stdout",
     "output_type": "stream",
     "text": [
      "[0 1 2]\n"
     ]
    }
   ],
   "source": [
    "print(indices)"
   ]
  },
  {
   "cell_type": "code",
   "execution_count": 108,
   "id": "b33ea8ba",
   "metadata": {},
   "outputs": [
    {
     "name": "stdout",
     "output_type": "stream",
     "text": [
      "[2 1 1]\n"
     ]
    }
   ],
   "source": [
    "print(occurrence_count)"
   ]
  },
  {
   "cell_type": "markdown",
   "id": "c4f2e56c",
   "metadata": {},
   "source": [
    "<a name = Section44></a>\n",
    "## **4.4 Array Manipulation**\n",
    "\n",
    "- In this section we will see some numpy functions that can change the structure (shape) of an array."
   ]
  },
  {
   "cell_type": "markdown",
   "id": "3121641e",
   "metadata": {},
   "source": [
    "<a name = Section441></a>\n",
    "### **4.4.1 Array Shape Manipulation**\n",
    "\n",
    "- We will explore following functions that will perform array shape manipulation:\n",
    "\n",
    "  - **.reshape():** Gives a new shape to an array without changing its data.\n",
    "\n",
    "  - **.flatten():** Return a copy of the array collapsed into one dimension.\n",
    "\n",
    "  - **.transpose()**: Reverse or permute the axes of an array and returns the modified array.\n",
    "  \n",
    "  - **.flip()** : Function allows you to flip, or reverse, the contents of an array along an axis."
   ]
  },
  {
   "cell_type": "code",
   "execution_count": 4,
   "id": "1ee74e1f",
   "metadata": {},
   "outputs": [
    {
     "data": {
      "text/plain": [
       "array([ 0,  1,  2,  3,  4,  5,  6,  7,  8,  9, 10, 11, 12, 13, 14, 15])"
      ]
     },
     "execution_count": 4,
     "metadata": {},
     "output_type": "execute_result"
    }
   ],
   "source": [
    "# Initialize an array of elements ranging from 0 to 116\n",
    "arr = np.arange(0,16)\n",
    "\n",
    "# Output the array\n",
    "arr"
   ]
  },
  {
   "cell_type": "code",
   "execution_count": 6,
   "id": "755c4aac",
   "metadata": {},
   "outputs": [
    {
     "data": {
      "text/plain": [
       "array([[ 0,  1,  2,  3],\n",
       "       [ 4,  5,  6,  7],\n",
       "       [ 8,  9, 10, 11],\n",
       "       [12, 13, 14, 15]])"
      ]
     },
     "execution_count": 6,
     "metadata": {},
     "output_type": "execute_result"
    }
   ],
   "source": [
    "# Reshaping array with resolution of 4 X 4 \n",
    "arr_2D = arr.reshape(4, 4)\n",
    "\n",
    "arr_2D"
   ]
  },
  {
   "cell_type": "code",
   "execution_count": 8,
   "id": "dc085f52",
   "metadata": {},
   "outputs": [
    {
     "data": {
      "text/plain": [
       "array([ 0,  1,  2,  3,  4,  5,  6,  7,  8,  9, 10, 11, 12, 13, 14, 15])"
      ]
     },
     "execution_count": 8,
     "metadata": {},
     "output_type": "execute_result"
    }
   ],
   "source": [
    "# Transform 2-D array to 1-D array\n",
    "arr_2D.flatten()"
   ]
  },
  {
   "cell_type": "code",
   "execution_count": 9,
   "id": "56af6bd3",
   "metadata": {},
   "outputs": [
    {
     "data": {
      "text/plain": [
       "array([[ 0,  4,  8, 12],\n",
       "       [ 1,  5,  9, 13],\n",
       "       [ 2,  6, 10, 14],\n",
       "       [ 3,  7, 11, 15]])"
      ]
     },
     "execution_count": 9,
     "metadata": {},
     "output_type": "execute_result"
    }
   ],
   "source": [
    "# Transpose the elements of 2-D array\n",
    "arr_2D.transpose()"
   ]
  },
  {
   "cell_type": "code",
   "execution_count": 13,
   "id": "cbca91fd",
   "metadata": {},
   "outputs": [
    {
     "name": "stdout",
     "output_type": "stream",
     "text": [
      "Reversed Array:  [8 7 6 5 4 3 2 1]\n"
     ]
    }
   ],
   "source": [
    "# Reversing a 1D array\n",
    "\n",
    "arr = np.array([1, 2, 3, 4, 5, 6, 7, 8])\n",
    "reversed_arr = np.flip(arr)\n",
    "print('Reversed Array: ', reversed_arr)"
   ]
  },
  {
   "cell_type": "code",
   "execution_count": 20,
   "id": "4c4263c2",
   "metadata": {},
   "outputs": [
    {
     "name": "stdout",
     "output_type": "stream",
     "text": [
      "Normal Array:\n",
      "[[ 1  2  3  4]\n",
      " [ 5  6  7  8]\n",
      " [ 9 10 11 12]]\n",
      "Reversed Array\n",
      "[[12 11 10  9]\n",
      " [ 8  7  6  5]\n",
      " [ 4  3  2  1]]\n"
     ]
    }
   ],
   "source": [
    "# Reversing a 2D array\n",
    "\n",
    "arr_2d = np.array([[1, 2, 3, 4], [5, 6, 7, 8], [9, 10, 11, 12]])\n",
    "reversed_arr = np.flip(arr_2d)\n",
    "\n",
    "print(\"Normal Array:\")\n",
    "print(arr_2d)\n",
    "\n",
    "print(\"Reversed Array\")\n",
    "print(reversed_arr)"
   ]
  },
  {
   "cell_type": "code",
   "execution_count": 21,
   "id": "92a2caa8",
   "metadata": {},
   "outputs": [
    {
     "name": "stdout",
     "output_type": "stream",
     "text": [
      "[[ 9 10 11 12]\n",
      " [ 5  6  7  8]\n",
      " [ 1  2  3  4]]\n"
     ]
    }
   ],
   "source": [
    "# Reverse only the rows with:\n",
    "\n",
    "reversed_arr_rows = np.flip(arr_2d, axis=0)\n",
    "print(reversed_arr_rows)"
   ]
  },
  {
   "cell_type": "code",
   "execution_count": 22,
   "id": "e11c04e8",
   "metadata": {},
   "outputs": [
    {
     "name": "stdout",
     "output_type": "stream",
     "text": [
      "[[ 4  3  2  1]\n",
      " [ 8  7  6  5]\n",
      " [12 11 10  9]]\n"
     ]
    }
   ],
   "source": [
    "# Reverse only the columns with:\n",
    "reversed_arr_columns = np.flip(arr_2d, axis=1)\n",
    "print(reversed_arr_columns)"
   ]
  },
  {
   "cell_type": "code",
   "execution_count": 23,
   "id": "5f198186",
   "metadata": {},
   "outputs": [],
   "source": [
    "# Reverse the contents of only one column or row. \n",
    "# For example, you can reverse the contents of the row at index position 1 (the second row):"
   ]
  },
  {
   "cell_type": "code",
   "execution_count": 24,
   "id": "7b933377",
   "metadata": {},
   "outputs": [
    {
     "name": "stdout",
     "output_type": "stream",
     "text": [
      "[[ 1  2  3  4]\n",
      " [ 8  7  6  5]\n",
      " [ 9 10 11 12]]\n"
     ]
    }
   ],
   "source": [
    "arr_2d[1] = np.flip(arr_2d[1])\n",
    "print(arr_2d)"
   ]
  },
  {
   "cell_type": "code",
   "execution_count": 25,
   "id": "8f799217",
   "metadata": {},
   "outputs": [
    {
     "name": "stdout",
     "output_type": "stream",
     "text": [
      "[[ 1 10  3  4]\n",
      " [ 8  7  6  5]\n",
      " [ 9  2 11 12]]\n"
     ]
    }
   ],
   "source": [
    "arr_2d[:,1] = np.flip(arr_2d[:,1])\n",
    "print(arr_2d)"
   ]
  },
  {
   "cell_type": "markdown",
   "id": "b646cb17",
   "metadata": {},
   "source": [
    "<a name = Section442></a>\n",
    "### **4.4.2 Array Merging and Splitting**\n",
    "\n",
    "- We will explore following functions that will perform array merging and splitting:\n",
    "\n",
    "  - **.concatenate():** Join a sequence of arrays along an existing axis.\n",
    "\n",
    "  - **.hsplit():** Split an array into multiple sub-arrays horizontally (column-wise).\n",
    "\n",
    "  - **.vsplit():** Split an array into multiple sub-arrays vertically (row-wise).\n",
    "  \n",
    "  - **.sort():** Sorting an array."
   ]
  },
  {
   "cell_type": "code",
   "execution_count": 27,
   "id": "920ffe19",
   "metadata": {},
   "outputs": [],
   "source": [
    "# Initialize a first 2-D array of shape 2 X 4\n",
    "arr_x = np.array([[1, 2, 3, 4], \n",
    "                  [5, 6, 7, 8]])\n",
    "\n",
    "# Initialize a second 2-D array of shape 2 X 4\n",
    "arr_y = np.array([[21, 22, 23, 24], \n",
    "                  [25, 26, 27, 28]])"
   ]
  },
  {
   "cell_type": "code",
   "execution_count": 30,
   "id": "e6f4f9f7",
   "metadata": {},
   "outputs": [
    {
     "data": {
      "text/plain": [
       "array([[ 1,  2,  3,  4, 21, 22, 23, 24],\n",
       "       [ 5,  6,  7,  8, 25, 26, 27, 28]])"
      ]
     },
     "execution_count": 30,
     "metadata": {},
     "output_type": "execute_result"
    }
   ],
   "source": [
    "# Concatenation of two 2-D arrays column-wise\n",
    "concat_col_wise = np.concatenate((arr_x, arr_y), axis=1)\n",
    "\n",
    "# Output the result of concatenation of two 2-D arrays column-wise\n",
    "concat_col_wise"
   ]
  },
  {
   "cell_type": "code",
   "execution_count": 31,
   "id": "1a49cb30",
   "metadata": {},
   "outputs": [
    {
     "data": {
      "text/plain": [
       "array([[ 1,  2,  3,  4],\n",
       "       [ 5,  6,  7,  8],\n",
       "       [21, 22, 23, 24],\n",
       "       [25, 26, 27, 28]])"
      ]
     },
     "execution_count": 31,
     "metadata": {},
     "output_type": "execute_result"
    }
   ],
   "source": [
    "# Concatenation of two 2-D arrays row-wise\n",
    "concat_row_wise = np.concatenate((arr_x, arr_y), axis=0)\n",
    "\n",
    "# Output the result of concatenation of two 2-D arrays row-wise\n",
    "concat_row_wise"
   ]
  },
  {
   "cell_type": "code",
   "execution_count": 33,
   "id": "a0167952",
   "metadata": {},
   "outputs": [
    {
     "data": {
      "text/plain": [
       "[array([[ 1,  2],\n",
       "        [ 5,  6],\n",
       "        [21, 22],\n",
       "        [25, 26]]),\n",
       " array([[ 3,  4],\n",
       "        [ 7,  8],\n",
       "        [23, 24],\n",
       "        [27, 28]])]"
      ]
     },
     "execution_count": 33,
     "metadata": {},
     "output_type": "execute_result"
    }
   ],
   "source": [
    "# Split an array into multiple sub-arrays horizontally (column-wise)\n",
    "horizontal = np.hsplit(ary=concat_row_wise, indices_or_sections=2)\n",
    "\n",
    "# Output the result\n",
    "horizontal"
   ]
  },
  {
   "cell_type": "code",
   "execution_count": 34,
   "id": "f922d231",
   "metadata": {},
   "outputs": [
    {
     "data": {
      "text/plain": [
       "[array([[1, 2, 3, 4],\n",
       "        [5, 6, 7, 8]]),\n",
       " array([[21, 22, 23, 24],\n",
       "        [25, 26, 27, 28]])]"
      ]
     },
     "execution_count": 34,
     "metadata": {},
     "output_type": "execute_result"
    }
   ],
   "source": [
    "# Split an array into multiple sub-arrays horizontally (column-wise)\n",
    "verticle = np.vsplit(ary=concat_row_wise, indices_or_sections=2)\n",
    "\n",
    "# Output the result\n",
    "verticle"
   ]
  },
  {
   "cell_type": "markdown",
   "id": "9150ac34",
   "metadata": {},
   "source": [
    "- **Sorting an element**"
   ]
  },
  {
   "cell_type": "code",
   "execution_count": 37,
   "id": "ec61c903",
   "metadata": {},
   "outputs": [
    {
     "data": {
      "text/plain": [
       "array([1, 2, 3, 4, 5, 6, 7, 8])"
      ]
     },
     "execution_count": 37,
     "metadata": {},
     "output_type": "execute_result"
    }
   ],
   "source": [
    "\n",
    "arr = np.array([2, 1, 5, 3, 7, 4, 6, 8])\n",
    "np.sort(arr)"
   ]
  },
  {
   "cell_type": "markdown",
   "id": "083852d9",
   "metadata": {},
   "source": [
    "In addition to sort, which returns a sorted copy of an array, you can use:\n",
    "\n",
    " - argsort, which is an indirect sort along a specified axis,\n",
    "\n",
    "- lexsort, which is an indirect stable sort on multiple keys,\n",
    "\n",
    "- searchsorted, which will find elements in a sorted array, and\n",
    "\n",
    "- partition, which is a partial sort."
   ]
  },
  {
   "cell_type": "markdown",
   "id": "4701fdca",
   "metadata": {},
   "source": [
    "**Observation:**\n",
    "\n",
    "- Using **concatenate** function we can merge arrays **columnwise** and **rowwise**. \n",
    "\n",
    "- Also arrays can be **horizontally** and **vertically** spliited using hsplit and vsplit."
   ]
  },
  {
   "cell_type": "markdown",
   "id": "285a2613",
   "metadata": {},
   "source": [
    "---\n",
    "<a name = Section5></a>\n",
    "# **5. Conclusion**\n",
    "---\n",
    "\n",
    "- **Numpy** is an **open-source** add-on module to Python.\n",
    "\n",
    "- By using Numpy you can **speed up** your **workflow** operations.\n",
    "\n",
    "- You can **interface** with **other packages** in the Python ecosystem that use Numpy under the hood.\n",
    "\n",
    "- A growing plethora of scientific and mathematical Python-based packages are using NumPy arrays.\n",
    "\n",
    "- It provides common mathematical and numerical routines in pre-compiled, fast functions.\n",
    "\n",
    "- It **provides basic routines** for manipulating large arrays and matrices of numeric data.\n",
    "\n",
    "- NumPy arrays have a fixed size decided at the time of creation. \n",
    "\n",
    "- Changing the size of an array will create a new array and delete the original.\n",
    "\n",
    "- The **elements** in a NumPy array are all **required** to be of the **same data type**, and thus will be the same size in memory.\n",
    "\n",
    "- NumPy arrays **facilitate advanced mathematical** and other types of **operations** on large numbers of data."
   ]
  },
  {
   "cell_type": "code",
   "execution_count": null,
   "id": "cffe81af",
   "metadata": {},
   "outputs": [],
   "source": []
  }
 ],
 "metadata": {
  "kernelspec": {
   "display_name": "Python 3",
   "language": "python",
   "name": "python3"
  },
  "language_info": {
   "codemirror_mode": {
    "name": "ipython",
    "version": 3
   },
   "file_extension": ".py",
   "mimetype": "text/x-python",
   "name": "python",
   "nbconvert_exporter": "python",
   "pygments_lexer": "ipython3",
   "version": "3.8.8"
  }
 },
 "nbformat": 4,
 "nbformat_minor": 5
}

