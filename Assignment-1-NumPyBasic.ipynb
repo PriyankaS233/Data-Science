{
 "cells": [
  {
   "cell_type": "markdown",
   "metadata": {
    "id": "-Gj6Nzoy_42C"
   },
   "source": [
    "<center><img src=\"https://upload.wikimedia.org/wikipedia/commons/3/31/NumPy_logo_2020.svg\"></center>"
   ]
  },
  {
   "cell_type": "markdown",
   "metadata": {
    "id": "TMkV2zYXVyIC"
   },
   "source": [
    "---\n",
    "# **Table of Contents**\n",
    "---\n",
    "\n",
    "**1.** [**Introduction to Numpy**](#Section1)<br>\n",
    "**2.** [**Installing & Importing Libraries**](#Section2)<br>\n",
    "  - **2.1** [**Installing Libraries**](#Section21)\n",
    "  - **2.2** [**Importing Libraries**](#Section22)\n",
    "\n",
    "**3.** [**Speed Check**](#Section3)<br>\n",
    "**4.** [**Creating Numpy Arrays**](#Section4)<br>\n",
    "**5.** [**Checking the Array Attributes**](#Section5)<br>\n",
    "**6.** [**Conclusion**](#Section6)<br>\n"
   ]
  },
  {
   "cell_type": "markdown",
   "metadata": {
    "id": "38yg-7jTWh8j"
   },
   "source": [
    "---\n",
    "<a name = Section1></a>\n",
    "# **1. Introduction to Numpy**\n",
    "---\n",
    "\n",
    "- **Numpy** is a library developed for Python which can handle large, multi-dimensional arrays and matrices. \n",
    "\n",
    "- It has a large **collections of mathematical functions** to operate on these arrays.\n",
    "\n",
    "- It is **remarkably faster** than Python Lists for many reasons.\n",
    "\n",
    "- It was designed for __efficient data storage__. All the elements of numpy arrays are stored __sequentially__ with a fixed width for each value. \n",
    "\n",
    "- On the other hand Lists are pointers to data stored elsewhere. The number of separate reads the computer has to do is smaller for numpy.\n",
    "\n",
    "- Numpy has __uniform datatypes__ instead of Lists. The computer performs a logic for each different element type. \n",
    "\n",
    "- Due to this reason numpy completely avoids the extra computation.\n",
    "\n",
    "- Numpy has __optimized functions__ for many mathematical operations on arrays and matrices. \n",
    "\n",
    "- This is the reason they are faster than regular math operations on lists.\n"
   ]
  },
  {
   "cell_type": "markdown",
   "metadata": {
    "id": "6VQTe8ZMxecE"
   },
   "source": [
    "---\n",
    "<a name = Section2></a>\n",
    "# **2. Installing & Importing Libraries**\n",
    "---\n",
    "\n",
    "- To refer to the official documentation of Numpy click <a href=\"https://numpy.org/doc/stable/\">**here**</a>."
   ]
  },
  {
   "cell_type": "markdown",
   "metadata": {
    "id": "VyCLxr30xi7a"
   },
   "source": [
    "<a name = Section21></a>\n",
    "### **2.1 Installing Libraries**"
   ]
  },
  {
   "cell_type": "code",
   "execution_count": null,
   "metadata": {
    "id": "gLRmh_VsxlTg"
   },
   "outputs": [],
   "source": [
    "!pip install -q --upgrade numpy"
   ]
  },
  {
   "cell_type": "markdown",
   "metadata": {
    "id": "dq3I4wUgxtNB"
   },
   "source": [
    "<a name = Section22></a>\n",
    "### **2.2 Importing Libraries**\n",
    "\n",
    "- We can give an alias name of np, so that we dont have to repeatedly use the longer form of the name."
   ]
  },
  {
   "cell_type": "code",
   "execution_count": 2,
   "metadata": {
    "executionInfo": {
     "elapsed": 1311,
     "status": "ok",
     "timestamp": 1615793290396,
     "user": {
      "displayName": "Mukesh Kumar",
      "photoUrl": "https://lh3.googleusercontent.com/a-/AOh14GjTZH-ccUwdv--s75Iw1qfyi7gtUyH2m_-htD2e=s64",
      "userId": "01238672520445611335"
     },
     "user_tz": -330
    },
    "id": "v3kjSXhkxtFr"
   },
   "outputs": [],
   "source": [
    "import numpy as np                                                  # Importing package numpys (For Numerical Python)\n",
    "import time                                                         # Importing time package"
   ]
  },
  {
   "cell_type": "markdown",
   "metadata": {
    "id": "uDYFQ3Qz_42L"
   },
   "source": [
    "---\n",
    "<a name = Section3></a>\n",
    "# **3. Speed Check**\n",
    "---\n",
    "\n",
    "- In this section, we will perform speed comparison between Python Lists and Numpy."
   ]
  },
  {
   "cell_type": "code",
   "execution_count": 3,
   "metadata": {
    "colab": {
     "base_uri": "https://localhost:8080/"
    },
    "executionInfo": {
     "elapsed": 1418,
     "status": "ok",
     "timestamp": 1615793293555,
     "user": {
      "displayName": "Mukesh Kumar",
      "photoUrl": "https://lh3.googleusercontent.com/a-/AOh14GjTZH-ccUwdv--s75Iw1qfyi7gtUyH2m_-htD2e=s64",
      "userId": "01238672520445611335"
     },
     "user_tz": -330
    },
    "id": "uyc-iksa_42M",
    "outputId": "dae3d35c-a2ce-4d45-d8ad-32d8d0b2adfa"
   },
   "outputs": [
    {
     "name": "stdout",
     "output_type": "stream",
     "text": [
      "Pure Python version 0.2556\n",
      "Numpy version 0.0127\n",
      "Numpy is in this example 20.0499 times faster!\n"
     ]
    }
   ],
   "source": [
    "size_of_vec = 1000000\n",
    "\n",
    "def pure_python_version():                                                # This function will return the time for python calculation\n",
    "    time_python = time.time()                                             # Start time before operation\n",
    "    my_list1 = range(size_of_vec)                                         # Creating a list with 1000000 values\n",
    "    my_list2 = range(size_of_vec)\n",
    "    sum_list = [my_list1[i] + my_list2[i] for i in range(len(my_list1))]  # Calculating the sum\n",
    "    return time.time() - time_python                                      # Return Current time - start time\n",
    "\n",
    "def numpy_version():                                                      # This function will return the time for numpy calculation\n",
    "    time_numpy = time.time()                                              # Start time before operation\n",
    "    my_arr1 = np.arange(size_of_vec)                                      # Creating a numpy array of 1000000 values\n",
    "    my_arr2 = np.arange(size_of_vec)\n",
    "    sum_array = my_arr1 + my_arr2                                         # Calculate the sum\n",
    "    return time.time() - time_numpy                                       # Return current time - start time\n",
    "\n",
    "\n",
    "python_time = pure_python_version()                                       # Time taken for Python expression\n",
    "numpy_time = numpy_version()                                              # Time taken for numpy operation\n",
    "print(\"Pure Python version {:0.4f}\".format(python_time))\n",
    "print(\"Numpy version {:0.4f}\".format(numpy_time))\n",
    "print(\"Numpy is in this example {:0.4f} times faster!\".format(python_time/numpy_time))"
   ]
  },
  {
   "cell_type": "markdown",
   "metadata": {
    "id": "QpO9XaQtouun"
   },
   "source": [
    "**Observations:**\n",
    "\n",
    "- We observed that Numpy is way more faster than Python list.\n",
    "\n",
    "- Also its more convenient when handling large datasets at once."
   ]
  },
  {
   "cell_type": "markdown",
   "metadata": {
    "id": "wRI4tZLQzeJH"
   },
   "source": [
    "---\n",
    "<a name = Section4></a>\n",
    "# **4. Creating Numpy Arrays**\n",
    "---\n",
    "\n",
    "- The key feature of numpy is its N-dimensional array or ndarray, having the below specialities:\n",
    "\n",
    "- It is **fast** and **flexible** container for large datasets in Python.\n",
    "\n",
    "- These arrays **enable** you to carry **mathematical operations** on whole block of data.\n",
    "\n",
    "- It is a **generic multi-dimensional container** for data, where each element is of the same type. \n",
    "\n",
    "- Below we will see some examples of ndarray showing 1D, 2D and 3D arrays:\n",
    "\n",
    "<center><img src=\"\"></center>"
   ]
  },
  {
   "cell_type": "code",
   "execution_count": 8,
   "metadata": {
    "colab": {
     "base_uri": "https://localhost:8080/"
    },
    "executionInfo": {
     "elapsed": 1059,
     "status": "ok",
     "timestamp": 1615794859381,
     "user": {
      "displayName": "Mukesh Kumar",
      "photoUrl": "https://lh3.googleusercontent.com/a-/AOh14GjTZH-ccUwdv--s75Iw1qfyi7gtUyH2m_-htD2e=s64",
      "userId": "01238672520445611335"
     },
     "user_tz": -330
    },
    "id": "tLRUcHt433mZ",
    "outputId": "0cabcbb7-e4ce-4da9-8305-9bf22e15042e"
   },
   "outputs": [
    {
     "name": "stdout",
     "output_type": "stream",
     "text": [
      "Type: <class 'list'>\n"
     ]
    },
    {
     "data": {
      "text/plain": [
       "[1, 2, 3, 4, 5]"
      ]
     },
     "execution_count": 8,
     "metadata": {
      "tags": []
     },
     "output_type": "execute_result"
    }
   ],
   "source": [
    "# Creating python list\n",
    "my_list = [1, 2, 3, 4, 5]\n",
    "\n",
    "# Dispaly the type of my_list variable\n",
    "print('Type:', type(my_list))\n",
    "\n",
    "# Output python list values\n",
    "my_list"
   ]
  },
  {
   "cell_type": "code",
   "execution_count": 9,
   "metadata": {
    "colab": {
     "base_uri": "https://localhost:8080/"
    },
    "executionInfo": {
     "elapsed": 1632,
     "status": "ok",
     "timestamp": 1615794956287,
     "user": {
      "displayName": "Mukesh Kumar",
      "photoUrl": "https://lh3.googleusercontent.com/a-/AOh14GjTZH-ccUwdv--s75Iw1qfyi7gtUyH2m_-htD2e=s64",
      "userId": "01238672520445611335"
     },
     "user_tz": -330
    },
    "id": "Vsaq5-f-4UW0",
    "outputId": "3f0f1dec-fa77-480b-f08d-923f8b2077a1"
   },
   "outputs": [
    {
     "name": "stdout",
     "output_type": "stream",
     "text": [
      "Type: <class 'numpy.ndarray'>\n"
     ]
    },
    {
     "data": {
      "text/plain": [
       "array([1, 2, 3, 4, 5])"
      ]
     },
     "execution_count": 9,
     "metadata": {
      "tags": []
     },
     "output_type": "execute_result"
    }
   ],
   "source": [
    "# Creating 1-dimensional array using python list declared earlier\n",
    "arr = np.array(my_list)\n",
    "\n",
    "# Dispaly the type of arr variable\n",
    "print('Type:', type(arr))\n",
    "\n",
    "# Output array values\n",
    "arr"
   ]
  },
  {
   "cell_type": "code",
   "execution_count": null,
   "metadata": {
    "id": "M_Sj31HFouuw",
    "outputId": "5d770a58-75d1-4689-d2f7-9d150e91c976"
   },
   "outputs": [
    {
     "data": {
      "text/plain": [
       "[[[0.5, 0.5], [0.5, 0.5, 0.5, 0.5]],\n",
       " [[0.5, 0.5, 0.5, 0.5, 0.5, 0.5, 0.5, 0.5],\n",
       "  [0.5, 0.5, 0.5, 0.5, 0.5, 0.5, 0.5, 0.5, 0.5, 0.5]]]"
      ]
     },
     "execution_count": 7,
     "metadata": {
      "tags": []
     },
     "output_type": "execute_result"
    }
   ],
   "source": [
    "[1,2]\n",
    "[[1,2],[3,4]]\n",
    "[[[0.5,0.5],[0.5,0.5,0.5,0.5]],[[0.5,0.5,0.5,0.5,0.5,0.5,0.5,0.5],[0.5,0.5,0.5,0.5,0.5,0.5,0.5,0.5,0.5,0.5]]]"
   ]
  },
  {
   "cell_type": "code",
   "execution_count": 11,
   "metadata": {
    "colab": {
     "base_uri": "https://localhost:8080/"
    },
    "executionInfo": {
     "elapsed": 1438,
     "status": "ok",
     "timestamp": 1615795150963,
     "user": {
      "displayName": "Mukesh Kumar",
      "photoUrl": "https://lh3.googleusercontent.com/a-/AOh14GjTZH-ccUwdv--s75Iw1qfyi7gtUyH2m_-htD2e=s64",
      "userId": "01238672520445611335"
     },
     "user_tz": -330
    },
    "id": "fWzE6Cnm40Qy",
    "outputId": "cfafac0a-72fc-49be-b2ce-610613c833dd"
   },
   "outputs": [
    {
     "name": "stdout",
     "output_type": "stream",
     "text": [
      "Type: <class 'numpy.ndarray'>\n"
     ]
    },
    {
     "data": {
      "text/plain": [
       "array([[ 1,  2,  3],\n",
       "       [ 4,  5,  6],\n",
       "       [ 7,  8,  9],\n",
       "       [10, 11, 12]])"
      ]
     },
     "execution_count": 11,
     "metadata": {
      "tags": []
     },
     "output_type": "execute_result"
    }
   ],
   "source": [
    "# Creating a python list containing sub-lists of values\n",
    "my_mat = [[1, 2, 3], [4, 5, 6], [7, 8, 9], [10, 11, 12]]\n",
    "\n",
    "# Creating 2-dimensional array using python list of my_mat\n",
    "mat = np.array(my_mat) \n",
    "\n",
    "# Dispaly the type of mat variable\n",
    "print('Type:', type(mat))\n",
    "\n",
    "# Output array values\n",
    "mat"
   ]
  },
  {
   "cell_type": "markdown",
   "metadata": {
    "id": "b44A_HMa_425"
   },
   "source": [
    "**Observation:**\n",
    "\n",
    "- Numpy arrays have the same functionalities as Python lists but the difference lies in their functionality and speed of doing operations.\n",
    "\n",
    "- The important diference in working with Numpy arrays is its more __convenient and fast__.\n",
    "\n",
    "- ndarrays are widely used for __handling images__ as huge matrices of numbers.\n",
    "\n",
    "- And its easier and faster to do any image operations in numpy arrays as compared to Python lists."
   ]
  },
  {
   "cell_type": "markdown",
   "metadata": {
    "id": "zS9YaVxL16bH"
   },
   "source": [
    "---\n",
    "<a name = Section5></a>\n",
    "# **5. Checking the Array Attributes**\n",
    "---\n",
    "\n",
    "- You might be interested to know the shape, dimensionality and datatype of the elements in the ndarray.\n",
    "\n",
    "- Here are some numpy functions to know these attributes:\n",
    "  - **.shape:** It gives the information about the dimensions of an ndarray.\n",
    "\n",
    "  - **.ndim:** It gives the information about the resolution of an ndarray.\n",
    "\n",
    "  - **.dtype:** It gives the information about the type or layout of data being stored by ndarray."
   ]
  },
  {
   "cell_type": "code",
   "execution_count": 5,
   "metadata": {
    "colab": {
     "base_uri": "https://localhost:8080/"
    },
    "executionInfo": {
     "elapsed": 1628,
     "status": "ok",
     "timestamp": 1615794705632,
     "user": {
      "displayName": "Mukesh Kumar",
      "photoUrl": "https://lh3.googleusercontent.com/a-/AOh14GjTZH-ccUwdv--s75Iw1qfyi7gtUyH2m_-htD2e=s64",
      "userId": "01238672520445611335"
     },
     "user_tz": -330
    },
    "id": "9x6wRUaJouuz",
    "outputId": "7ba3652d-ac55-4551-b1b3-ea14465b75e6"
   },
   "outputs": [
    {
     "data": {
      "text/plain": [
       "array([1, 2, 3, 4, 5])"
      ]
     },
     "execution_count": 5,
     "metadata": {
      "tags": []
     },
     "output_type": "execute_result"
    }
   ],
   "source": [
    "# Dispaly the type of arr variable\n",
    "print('Type:', type(arr))\n",
    "\n",
    "# Output array values\n",
    "arr"
   ]
  },
  {
   "cell_type": "code",
   "execution_count": 13,
   "metadata": {
    "colab": {
     "base_uri": "https://localhost:8080/"
    },
    "executionInfo": {
     "elapsed": 1512,
     "status": "ok",
     "timestamp": 1615795298535,
     "user": {
      "displayName": "Mukesh Kumar",
      "photoUrl": "https://lh3.googleusercontent.com/a-/AOh14GjTZH-ccUwdv--s75Iw1qfyi7gtUyH2m_-htD2e=s64",
      "userId": "01238672520445611335"
     },
     "user_tz": -330
    },
    "id": "mwDHbJSz50KZ",
    "outputId": "03ed6d8c-7ed2-44c0-9270-75a5345d5701"
   },
   "outputs": [
    {
     "data": {
      "text/plain": [
       "array([[ 1,  2,  3],\n",
       "       [ 4,  5,  6],\n",
       "       [ 7,  8,  9],\n",
       "       [10, 11, 12]])"
      ]
     },
     "execution_count": 13,
     "metadata": {
      "tags": []
     },
     "output_type": "execute_result"
    }
   ],
   "source": [
    "# Creating a python list containing sub-lists of values\n",
    "my_mat = [[1, 2, 3], [4, 5, 6], [7, 8, 9], [10, 11, 12]]\n",
    "\n",
    "# Creating 2-dimensional array using python list of my_mat\n",
    "mat = np.array(my_mat) \n",
    "\n",
    "# Output array values\n",
    "mat"
   ]
  },
  {
   "cell_type": "code",
   "execution_count": 14,
   "metadata": {
    "colab": {
     "base_uri": "https://localhost:8080/"
    },
    "executionInfo": {
     "elapsed": 1576,
     "status": "ok",
     "timestamp": 1615795325162,
     "user": {
      "displayName": "Mukesh Kumar",
      "photoUrl": "https://lh3.googleusercontent.com/a-/AOh14GjTZH-ccUwdv--s75Iw1qfyi7gtUyH2m_-htD2e=s64",
      "userId": "01238672520445611335"
     },
     "user_tz": -330
    },
    "id": "PMRkvaz-_429",
    "outputId": "5a912664-6fbf-4038-89c4-09a19e268f35"
   },
   "outputs": [
    {
     "name": "stdout",
     "output_type": "stream",
     "text": [
      "Array Shape: (5,)\n",
      "Matrix Shape: (4, 3)\n"
     ]
    }
   ],
   "source": [
    "# Display the array and matrix shape\n",
    "print('Array Shape:', arr.shape)\n",
    "print('Matrix Shape:', mat.shape)"
   ]
  },
  {
   "cell_type": "code",
   "execution_count": 15,
   "metadata": {
    "colab": {
     "base_uri": "https://localhost:8080/"
    },
    "executionInfo": {
     "elapsed": 1905,
     "status": "ok",
     "timestamp": 1615795389164,
     "user": {
      "displayName": "Mukesh Kumar",
      "photoUrl": "https://lh3.googleusercontent.com/a-/AOh14GjTZH-ccUwdv--s75Iw1qfyi7gtUyH2m_-htD2e=s64",
      "userId": "01238672520445611335"
     },
     "user_tz": -330
    },
    "id": "gEi8xas-6Ffx",
    "outputId": "60146b1f-e24a-4dd9-b661-930662d4520a"
   },
   "outputs": [
    {
     "name": "stdout",
     "output_type": "stream",
     "text": [
      "Array Resolution: 1\n",
      "Matrix Resolution: 2\n"
     ]
    }
   ],
   "source": [
    "# Display the resolution of an array and matrix\n",
    "print('Array Resolution:', arr.ndim)\n",
    "print('Matrix Resolution:', mat.ndim)"
   ]
  },
  {
   "cell_type": "code",
   "execution_count": 16,
   "metadata": {
    "colab": {
     "base_uri": "https://localhost:8080/"
    },
    "executionInfo": {
     "elapsed": 1500,
     "status": "ok",
     "timestamp": 1615795469813,
     "user": {
      "displayName": "Mukesh Kumar",
      "photoUrl": "https://lh3.googleusercontent.com/a-/AOh14GjTZH-ccUwdv--s75Iw1qfyi7gtUyH2m_-htD2e=s64",
      "userId": "01238672520445611335"
     },
     "user_tz": -330
    },
    "id": "BhRbwE_a6UUn",
    "outputId": "ac638882-4c7d-42f3-fa73-4093bc6c6fa1"
   },
   "outputs": [
    {
     "name": "stdout",
     "output_type": "stream",
     "text": [
      "Type of information stored in an array: int64\n",
      "Type of information stored in a matrix : int64\n"
     ]
    }
   ],
   "source": [
    "# Display the type of the ndarray\n",
    "print('Type of information stored in an array:', arr.dtype)\n",
    "print('Type of information stored in a matrix :', mat.dtype)"
   ]
  },
  {
   "cell_type": "markdown",
   "metadata": {},
   "source": [
    "**Observation:**\n",
    "\n",
    "- We have seen how easy it is to make use of shape, ndim and dtype function to check the shape, dimension and datatype of the array."
   ]
  },
  {
   "cell_type": "markdown",
   "metadata": {},
   "source": [
    "---\n",
    "<a name = Section6></a>\n",
    "# **6. Conclusion**\n",
    "---\n",
    "\n",
    "- **Numpy** is an **open-source** add-on module to Python.\n",
    "\n",
    "- By using Numpy you can **speed up** your **workflow** operations.\n",
    "\n",
    "- You can **interface** with **other packages** in the Python ecosystem that use Numpy under the hood.\n",
    "\n",
    "- A growing plethora of scientific and mathematical Python-based packages are using NumPy arrays.\n",
    "\n",
    "- It provides common mathematical and numerical routines in pre-compiled, fast functions.\n",
    "\n",
    "- It **provides basic routines** for manipulating large arrays and matrices of numeric data.\n",
    "\n",
    "- NumPy arrays have a fixed size decided at the time of creation. \n",
    "\n",
    "- Changing the size of an array will create a new array and delete the original.\n",
    "\n",
    "- The **elements** in a NumPy array are all **required** to be of the **same data type**, and thus will be the same size in memory.\n",
    "\n",
    "- NumPy arrays **facilitate advanced mathematical** and other types of **operations** on large numbers of data."
   ]
  },
  {
   "cell_type": "code",
   "execution_count": null,
   "metadata": {},
   "outputs": [],
   "source": []
  }
 ],
 "metadata": {
  "colab": {
   "collapsed_sections": [],
   "name": "Data Operations with Numpy (Case Study).ipynb",
   "provenance": []
  },
  "kernelspec": {
   "display_name": "Python 3",
   "language": "python",
   "name": "python3"
  },
  "language_info": {
   "codemirror_mode": {
    "name": "ipython",
    "version": 3
   },
   "file_extension": ".py",
   "mimetype": "text/x-python",
   "name": "python",
   "nbconvert_exporter": "python",
   "pygments_lexer": "ipython3",
   "version": "3.8.8"
  }
 },
 "nbformat": 4,
 "nbformat_minor": 1
}

